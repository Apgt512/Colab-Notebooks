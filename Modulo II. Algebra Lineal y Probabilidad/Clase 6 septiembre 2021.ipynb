{
 "cells": [
  {
   "cell_type": "markdown",
   "id": "b895eea6",
   "metadata": {},
   "source": [
    "# Clase 6 de agosto de 2021 #\n",
    "## Sistemas de ecuaciones lineales ##\n",
    "![XKCD](img/1838.png)"
   ]
  },
  {
   "cell_type": "code",
   "execution_count": 1,
   "id": "f20bd820",
   "metadata": {},
   "outputs": [],
   "source": [
    "import matplotlib.pyplot as plt\n",
    "import numpy as np\n",
    "\n",
    "%matplotlib inline"
   ]
  },
  {
   "cell_type": "markdown",
   "id": "ae0c4015",
   "metadata": {},
   "source": [
    "### Sistemas de ecuaciones lineales ###\n",
    "Una ecuación lineal es una igualdad que tiene la forma:  \n",
    "$\\sum{a_i x_i}=y$  \n",
    "Un sistema de ecuaciones lineales es un set de ecuaciones lineales que comparten las mismas variables. Por ejemplo:  \n",
    "$a_1x_1 + a_2x_2 = y_1$  \n",
    "$a_3x_1 + a_4x_2 = y_2$  \n",
    "\n",
    "La forma matricial de un sistema de ecuaciones lineales se expresa como $Ax=y$  \n",
    "$\\begin{bmatrix}\n",
    "a_{1,1} & a_{1,2} & \\dots & a_{1,n}\\\\\n",
    "a_{2,1} & a_{2,2} & \\dots & a_{2,n}\\\\\n",
    "\\vdots & \\vdots & \\ddots & \\vdots\\\\\n",
    "a_{m,1} & a_{m,2} & \\dots & a_{m,n}\n",
    "\\end{bmatrix}\n",
    "\\begin{bmatrix}\n",
    "x_{1}\\\\\n",
    "x_{2}\\\\\n",
    "\\vdots\\\\\n",
    "x_{m}\n",
    "\\end{bmatrix} \n",
    "=\n",
    "\\begin{bmatrix}\n",
    "y_{1}\\\\\n",
    "y_{2}\\\\\n",
    "\\vdots\\\\\n",
    "y_{m}\n",
    "\\end{bmatrix} $  \n",
    "\n",
    "Soluciones a sistemas de ecuaciones lineales:  \n",
    "- Caso 1: No hay solución -> rango([A,y]) = rango(A)+1\n",
    "- Caso 2: Existe una única solución -> rango([A,y]) = rango(A)\n",
    "- Caso 3: Existen infinitas soluciones -> rango([A,y]) = rango(A) & rango(A) < n   \n",
    "\n",
    "Si tenemos un sistema como el anterior $Ax=y$ donde $A$ es una matriz de $m \\times n$ significa que tenemos un sistema con $m$ ecuaciones y $n$ incógnitas."
   ]
  },
  {
   "cell_type": "markdown",
   "id": "3d712fc6",
   "metadata": {},
   "source": [
    "**Ejemplo**: Escribe en forma matricial el siguiente sistema de ecuaciones:  \n",
    "\\begin{align*}\n",
    "4x+3y-5z&=2\\\\\n",
    "-2x-4y+5z&=5\\\\\n",
    "7x+8y&=-3\\\\\n",
    "x+2z&=1\\\\\n",
    "9+y-6z&=6\n",
    "\\end{align*}"
   ]
  },
  {
   "cell_type": "code",
   "execution_count": 2,
   "id": "94479001",
   "metadata": {},
   "outputs": [],
   "source": [
    "x=1\n",
    "y=1\n",
    "z=1\n",
    "\n",
    "A = np.array([\n",
    "    [4, 3, -5],\n",
    "    [-2, -4, 5],\n",
    "    [7, 8, 0],\n",
    "    [1, 0, 2],\n",
    "    [0, 1, -6]\n",
    "])\n",
    "vector_x = np.array([\"x\",\"y\",\"z\"])\n",
    "vector_y = np.array([2, 5, -3, 1, -3])"
   ]
  },
  {
   "cell_type": "code",
   "execution_count": 3,
   "id": "b31e8ae3",
   "metadata": {},
   "outputs": [
    {
     "name": "stdout",
     "output_type": "stream",
     "text": [
      "[[ 4  3 -5]\n",
      " [-2 -4  5]\n",
      " [ 7  8  0]\n",
      " [ 1  0  2]\n",
      " [ 0  1 -6]]\n"
     ]
    }
   ],
   "source": [
    "print(A)"
   ]
  },
  {
   "cell_type": "code",
   "execution_count": 4,
   "id": "c6fda01d",
   "metadata": {},
   "outputs": [
    {
     "data": {
      "text/plain": [
       "array(['x', 'y', 'z'], dtype='<U1')"
      ]
     },
     "execution_count": 4,
     "metadata": {},
     "output_type": "execute_result"
    }
   ],
   "source": [
    "vector_x"
   ]
  },
  {
   "cell_type": "code",
   "execution_count": 5,
   "id": "62f0d8fd",
   "metadata": {},
   "outputs": [
    {
     "data": {
      "text/plain": [
       "array([ 2,  5, -3,  1, -3])"
      ]
     },
     "execution_count": 5,
     "metadata": {},
     "output_type": "execute_result"
    }
   ],
   "source": [
    "vector_y"
   ]
  },
  {
   "cell_type": "code",
   "execution_count": 6,
   "id": "b0240693",
   "metadata": {},
   "outputs": [
    {
     "data": {
      "text/plain": [
       "array([[ 2],\n",
       "       [ 5],\n",
       "       [-3],\n",
       "       [ 1],\n",
       "       [-3]])"
      ]
     },
     "execution_count": 6,
     "metadata": {},
     "output_type": "execute_result"
    }
   ],
   "source": [
    "vector_y.reshape(5,1)"
   ]
  },
  {
   "cell_type": "code",
   "execution_count": 7,
   "id": "f6a58ab8",
   "metadata": {},
   "outputs": [
    {
     "data": {
      "text/plain": [
       "array([[ 4,  3, -5,  2],\n",
       "       [-2, -4,  5,  5],\n",
       "       [ 7,  8,  0, -3],\n",
       "       [ 1,  0,  2,  1],\n",
       "       [ 0,  1, -6, -3]])"
      ]
     },
     "execution_count": 7,
     "metadata": {},
     "output_type": "execute_result"
    }
   ],
   "source": [
    "# Matriz aumentada\n",
    "np.hstack((A, vector_y.reshape(5,1)))"
   ]
  },
  {
   "attachments": {
    "image.png": {
     "image/png": "[encoded data removed]"
    }
   },
   "cell_type": "markdown",
   "id": "a06ead9c",
   "metadata": {},
   "source": [
    "**¿Cómo se resuelven?**\n",
    "- Método de eliminación gaussiana\n",
    "![image.png](attachment:image.png)"
   ]
  },
  {
   "cell_type": "markdown",
   "id": "478335a1",
   "metadata": {},
   "source": [
    "$a'_{4,4}\\cdot x_4 = y'_4$  \n",
    "$a'_{3,3}\\cdot x_3 + a'_{3,4}\\cdot x_4 = y'_3$  \n",
    "Seguir sustiyendo hacia atrás.."
   ]
  },
  {
   "attachments": {
    "image-2.png": {
     "image/png": "[encoded data removed]"
    }
   },
   "cell_type": "markdown",
   "id": "1fa1f9c1",
   "metadata": {},
   "source": [
    "- Método de eliminación de Gauss-Jordan\n",
    "![image-2.png](attachment:image-2.png)"
   ]
  },
  {
   "cell_type": "markdown",
   "id": "a0b5228e",
   "metadata": {},
   "source": [
    "$x_1 = y'_1$  \n",
    "$x_2 = y'_2$  \n",
    "$x_3 = y'_3$  \n",
    "$x_4= y'_4$  \n"
   ]
  },
  {
   "cell_type": "markdown",
   "id": "9076ddbe",
   "metadata": {},
   "source": [
    "**Ejemplo (Metodo de eliminacion de Gauss Jordan)**:  \n",
    "\n",
    "$\\begin{align*}\n",
    "4x_1+3x_2-5x_3&=2 \\\\  \n",
    "-2x_1-4x_2+5x_3&=5 \\\\\n",
    "8x_1+8x_2&=-3\n",
    "\\end{align*}\n",
    "$\n"
   ]
  },
  {
   "cell_type": "code",
   "execution_count": 8,
   "id": "adec8997",
   "metadata": {},
   "outputs": [
    {
     "data": {
      "text/plain": [
       "array([[ 1.        ,  0.        ,  0.        ,  2.20833333],\n",
       "       [ 0.        ,  1.        ,  0.        , -2.58333333],\n",
       "       [ 0.        ,  0.        ,  1.        , -0.18333333]])"
      ]
     },
     "execution_count": 8,
     "metadata": {},
     "output_type": "execute_result"
    }
   ],
   "source": [
    "# Definimos nuestra matriz de coeficientes y nuestro vector de resultados\n",
    "A = np.array([\n",
    "    [4.0,3,-5],\n",
    "    [-2,-4,5],\n",
    "    [8,8,0]\n",
    "])\n",
    "y = np.array([2.0,5,-3])\n",
    "\n",
    "# Creamos la matriz aumentada\n",
    "A_aum = np.hstack((A, y.reshape(3,1)))\n",
    "\n",
    "# Transformamos hasta obtener el resultado\n",
    "A_aum[0] = A_aum[0]/4\n",
    "A_aum[1] = A_aum[0]*2 + A_aum[1]\n",
    "A_aum[2] = A_aum[2] + A_aum[0]*(-8)\n",
    "A_aum[1] = A_aum[1]/(-2.5)\n",
    "A_aum[2] = A_aum[2] + A_aum[1]*(-2)\n",
    "A_aum[0] = A_aum[0] + A_aum[1]*(-0.75)\n",
    "A_aum[2] = A_aum[2]/12\n",
    "A_aum[1] = A_aum[1] + A_aum[2]\n",
    "A_aum[0] = A_aum[0] + A_aum[2]*0.5\n",
    "A_aum"
   ]
  },
  {
   "cell_type": "code",
   "execution_count": 9,
   "id": "49c2f37f",
   "metadata": {},
   "outputs": [
    {
     "data": {
      "text/plain": [
       "array([ True,  True,  True])"
      ]
     },
     "execution_count": 9,
     "metadata": {},
     "output_type": "execute_result"
    }
   ],
   "source": [
    "x = A_aum[:,3]\n",
    "np.isclose(A@x,y)"
   ]
  },
  {
   "attachments": {
    "image.png": {
     "image/png": "[encoded data removed]"
    }
   },
   "cell_type": "markdown",
   "id": "ff227f03",
   "metadata": {},
   "source": [
    "**Factorización**\n",
    "- Factorización LU: Se utiliza en matrices cuadradas y descompone una matriz en dos componentes.  \n",
    "$A = L\\cdot U$\n",
    "![image.png](attachment:image.png)\n",
    "Podemos convertir nuestro sistema de ecuaciones en:  \n",
    "$LUx=y$  \n",
    "Si definimos $M=Ux$ entonces el sistema de ecuaciones queda como:  \n",
    "$LM=y$"
   ]
  },
  {
   "cell_type": "markdown",
   "id": "70a0bc39",
   "metadata": {},
   "source": [
    "$A = L\\cdot U \\cdot P$"
   ]
  },
  {
   "cell_type": "code",
   "execution_count": 10,
   "id": "1fa4b729",
   "metadata": {},
   "outputs": [
    {
     "name": "stdout",
     "output_type": "stream",
     "text": [
      "[[0. 1. 0.]\n",
      " [0. 0. 1.]\n",
      " [1. 0. 0.]]\n",
      "[[1.  0.  0. ]\n",
      " [0.  1.  0. ]\n",
      " [0.5 0.5 1. ]]\n",
      "[[6. 7. 8.]\n",
      " [0. 1. 2.]\n",
      " [0. 0. 0.]]\n"
     ]
    },
    {
     "data": {
      "text/plain": [
       "array([[0., 1., 2.],\n",
       "       [3., 4., 5.],\n",
       "       [6., 7., 8.]])"
      ]
     },
     "execution_count": 10,
     "metadata": {},
     "output_type": "execute_result"
    }
   ],
   "source": [
    "from scipy.linalg import lu\n",
    "A = np.arange(9).reshape(3,3)\n",
    "A\n",
    "\n",
    "P, L, U = lu(A)\n",
    "print(P)\n",
    "print(L)\n",
    "print(U)\n",
    "P@L@U"
   ]
  },
  {
   "cell_type": "markdown",
   "id": "d1bb48cd",
   "metadata": {},
   "source": [
    "**¿Cómo se resuelven?**\n",
    "- Método de Gauss-Siedel (método iterativo)  \n",
    "Vamos a tener una estimación inicial, utiliza la última estimación de cada incógnita para iterar hasta converger a la solución"
   ]
  },
  {
   "cell_type": "markdown",
   "id": "03378c5f",
   "metadata": {},
   "source": [
    "$\\begin{align*}\n",
    "4x_1+3x_2-5x_3&=2 \\\\  \n",
    "-2x_1-4x_2+5x_3&=5 \\\\\n",
    "(No hay x_3)8x_1+8x_2&=-3 \\\\\n",
    "6x_1+4x_2+5x_3&=2\n",
    "\\end{align*}\n",
    "$\n",
    "$x_1 = (2-3x_2+5x_3)/4$"
   ]
  },
  {
   "cell_type": "code",
   "execution_count": 21,
   "id": "06f96d3e",
   "metadata": {
    "scrolled": false
   },
   "outputs": [
    {
     "name": "stdout",
     "output_type": "stream",
     "text": [
      "Iteracion  1\n",
      "x1: 0.5 \tx2: -1.5 \tx3: 1.0\n",
      "-----------\n",
      "Iteracion  2\n",
      "x1: 2.875 \tx2: -1.4375 \tx3: -1.9\n",
      "-----------\n",
      "Iteracion  3\n",
      "x1: -0.796875 \tx2: -3.2265625 \tx3: 3.9375\n",
      "-----------\n",
      "Iteracion  4\n",
      "x1: 7.841796875 \tx2: -0.2490234375 \tx3: -8.8109375\n",
      "-----------\n",
      "Iteracion  5\n",
      "x1: -10.326904296875 \tx2: -7.1002197265625 \tx3: 18.4724609375\n",
      "-----------\n",
      "Iteracion  6\n",
      "x1: 28.915740966796875 \tx2: 7.3827056884765625 \tx3: -40.2050537109375\n",
      "-----------\n",
      "Iteracion  7\n",
      "x1: -55.2933464050293 \tx2: -23.859643936157227 \tx3: 85.83973083496093\n",
      "-----------\n",
      "Iteracion  8\n",
      "x1: 125.69439649581909 \tx2: 43.202465295791626 \tx3: -184.9952480316162\n",
      "-----------\n",
      "Iteracion  9\n",
      "x1: -263.145909011364 \tx2: -100.92110553383827 \tx3: 396.9119752407074\n",
      "-----------\n",
      "Iteracion  10\n",
      "x1: 572.330798201263 \tx2: 208.72456995025277 \tx3: -853.3766138017178\n",
      "-----------\n",
      "No convergio!!\n"
     ]
    }
   ],
   "source": [
    "# Algoritmo Gauss Siedel\n",
    "A = np.array([\n",
    "    [4.0,3,-5],\n",
    "    [-2,-4,5],\n",
    "    [8,8,0]\n",
    "])\n",
    "y = np.array([2.0,5,-3])\n",
    "\n",
    "# Estimaciones iniciales\n",
    "x1 = 0.0\n",
    "x2 = 0.0\n",
    "x3 = 0.0\n",
    "x_old = np.array([x1, x2, x3])\n",
    "# x es el vector que se irá actualizando\n",
    "x = np.array([np.nan, np.nan, np.nan])\n",
    "\n",
    "# Tolerancia y una variable que nos indique si ha convergido\n",
    "tol = 0.01\n",
    "convergencia = False\n",
    "num_iter = 10\n",
    "\n",
    "for i in range(1, num_iter+1):\n",
    "    print('Iteracion ', i)\n",
    "    x1 = (2 - 3*x2 + 5*x3)/4\n",
    "    x2 = (5 + 2*x1 -5*x3)/(-4)\n",
    "    x3 = (2 - 6*x1 - 4*x2)/5\n",
    "    \n",
    "    x = np.array([x1, x2, x3])\n",
    "    \n",
    "    print('x1:',x1,'\\tx2:', x2,'\\tx3:', x3)\n",
    "    \n",
    "    dx = np.sqrt(np.dot(x-x_old, x-x_old))\n",
    "    \n",
    "    if dx < tol:\n",
    "        convergencia = True\n",
    "        print('Termino!!')\n",
    "        break\n",
    "    \n",
    "    x_old = x\n",
    "    print('-----------')\n",
    "print('No convergio!!')"
   ]
  },
  {
   "cell_type": "code",
   "execution_count": 135,
   "id": "908b5a85",
   "metadata": {},
   "outputs": [
    {
     "data": {
      "text/plain": [
       "array([[ 4.,  3., -5.],\n",
       "       [-2., -4.,  5.],\n",
       "       [ 8.,  8.,  0.]])"
      ]
     },
     "execution_count": 135,
     "metadata": {},
     "output_type": "execute_result"
    }
   ],
   "source": [
    "A"
   ]
  },
  {
   "cell_type": "markdown",
   "id": "92f948e8",
   "metadata": {},
   "source": [
    "**Ejercicio**:  \n",
    "\n",
    "Hacer que converja nuestro sistema de ecuaciones reordenando las ecuaciones de tal forma que tengamos una diagonal dominante"
   ]
  },
  {
   "cell_type": "code",
   "execution_count": 142,
   "id": "c003beed",
   "metadata": {
    "scrolled": true
   },
   "outputs": [
    {
     "name": "stdout",
     "output_type": "stream",
     "text": [
      "[[ 4.  3. -5.  2.]\n",
      " [-2. -4.  5.  5.]\n",
      " [ 6.  4.  5.  2.]]\n",
      "\n",
      " [[ 4.  3. -5.  2.]\n",
      " [-2. -4.  5.  5.]\n",
      " [ 2.  1. 10.  0.]]\n",
      "\n",
      " [[ 4.  3. -5.  2.]\n",
      " [ 2. -1.  0.  7.]\n",
      " [ 2.  1. 10.  0.]]\n",
      "\n",
      " [[ 2. -1.  0.  7.]\n",
      " [ 4.  3. -5.  2.]\n",
      " [ 2.  1. 10.  0.]]\n",
      "\n",
      " [[  2.  -1.   0.   7.]\n",
      " [  0.   5.  -5. -12.]\n",
      " [  2.   1.  10.   0.]]\n"
     ]
    }
   ],
   "source": [
    "A2 = A.copy()\n",
    "A2 = np.hstack((A2, y.reshape(len(y),1)))\n",
    "A2[2] = A2[2]+A2[1]\n",
    "print(A2)\n",
    "A2[2] = A2[2]-A2[0]\n",
    "print(\"\\n\",A2)\n",
    "A2[1] = A2[1]+A2[0]\n",
    "print(\"\\n\",A2)\n",
    "# Intercambiar la posicion de la primera fila con la segunda fila\n",
    "A2[[0,1]] = A2[[1,0]]\n",
    "print(\"\\n\",A2)\n",
    "A2[1] = A2[1]-2*A2[0]\n",
    "print(\"\\n\",A2)"
   ]
  },
  {
   "cell_type": "code",
   "execution_count": 144,
   "id": "46f85b7a",
   "metadata": {},
   "outputs": [
    {
     "name": "stdout",
     "output_type": "stream",
     "text": [
      "Iteracion  1\n",
      "x1: 3.5 \tx2: -2.4 \tx3: -0.45999999999999996\n",
      "-----------\n",
      "Iteracion  2\n",
      "x1: 2.3 \tx2: -2.8600000000000003 \tx3: -0.17399999999999993\n",
      "-----------\n",
      "Iteracion  3\n",
      "x1: 2.07 \tx2: -2.574 \tx3: -0.1566\n",
      "-----------\n",
      "Iteracion  4\n",
      "x1: 2.213 \tx2: -2.5566 \tx3: -0.18694000000000002\n",
      "-----------\n",
      "Iteracion  5\n",
      "x1: 2.2217000000000002 \tx2: -2.58694 \tx3: -0.18564600000000006\n",
      "-----------\n",
      "Iteracion  6\n",
      "x1: 2.20653 \tx2: -2.585646 \tx3: -0.18274139999999997\n",
      "-----------\n",
      "Iteracion  7\n",
      "x1: 2.2071769999999997 \tx2: -2.5827414 \tx3: -0.18316125999999994\n",
      "-----------\n",
      "Iteracion  8\n",
      "x1: 2.2086293 \tx2: -2.58316126 \tx3: -0.18340973400000005\n",
      "-----------\n",
      "Iteracion  9\n",
      "x1: 2.20841937 \tx2: -2.583409734 \tx3: -0.18334290060000002\n",
      "-----------\n",
      "Iteracion  10\n",
      "x1: 2.208295133 \tx2: -2.5833429006 \tx3: -0.18332473654\n",
      "-----------\n",
      "Iteracion  11\n",
      "x1: 2.2083285497 \tx2: -2.58332473654 \tx3: -0.183333236286\n",
      "-----------\n",
      "Iteracion  12\n",
      "x1: 2.20833763173 \tx2: -2.5833332362859998 \tx3: -0.18333420271740003\n",
      "-----------\n",
      "Iteracion  13\n",
      "x1: 2.208333381857 \tx2: -2.5833342027174 \tx3: -0.18333325609965997\n",
      "-----------\n",
      "Iteracion  14\n",
      "x1: 2.2083328986413 \tx2: -2.58333325609966 \tx3: -0.18333325411829401\n",
      "-----------\n",
      "Iteracion  15\n",
      "x1: 2.20833337195017 \tx2: -2.583333254118294 \tx3: -0.18333334897820458\n",
      "-----------\n",
      "Termino!!\n"
     ]
    }
   ],
   "source": [
    "# Estimaciones iniciales\n",
    "x1 = 0.0\n",
    "x2 = 0.0\n",
    "x3 = 0.0\n",
    "x_old = np.array([x1, x2, x3])\n",
    "# x es el vector que se irá actualizando\n",
    "x = np.array([np.nan, np.nan, np.nan])\n",
    "\n",
    "# Tolerancia y una variable que nos indique si ha convergido\n",
    "tol = 0.000001\n",
    "convergencia = False\n",
    "num_iter = 50\n",
    "\n",
    "for i in range(1, num_iter+1):\n",
    "    print('Iteracion ', i)\n",
    "    x1 = (7 + 1*x2 + 0*x3)/2\n",
    "    x2 = (-12 + 0*x1 + 5*x3)/5\n",
    "    x3 = (0 - 2*x1 - 1*x2)/10\n",
    "    \n",
    "    x = np.array([x1, x2, x3])\n",
    "    \n",
    "    print('x1:',x1,'\\tx2:', x2,'\\tx3:', x3)\n",
    "    \n",
    "    dx = np.sqrt(np.dot(x-x_old, x-x_old))\n",
    "    \n",
    "    print('-----------')\n",
    "    \n",
    "    if dx < tol:\n",
    "        convergencia = True\n",
    "        print('Termino!!')\n",
    "        break\n",
    "    \n",
    "    x_old = x\n",
    "    \n",
    "    if i==num_iter:\n",
    "        print('No convergio!!')"
   ]
  },
  {
   "cell_type": "markdown",
   "id": "7bebcdb2",
   "metadata": {},
   "source": [
    "**Resolver sistemas de ecuaciones con Numpy**"
   ]
  },
  {
   "cell_type": "code",
   "execution_count": 13,
   "id": "7d08d183",
   "metadata": {},
   "outputs": [
    {
     "data": {
      "text/plain": [
       "array([ 2.20833333, -2.58333333, -0.18333333])"
      ]
     },
     "execution_count": 13,
     "metadata": {},
     "output_type": "execute_result"
    }
   ],
   "source": [
    "# Resolver ecuaciones lineales con numpy\n",
    "np.linalg.solve(A, y)"
   ]
  },
  {
   "cell_type": "code",
   "execution_count": 14,
   "id": "632629fa",
   "metadata": {},
   "outputs": [
    {
     "data": {
      "text/plain": [
       "array([ 2.20833333, -2.58333333, -0.18333333])"
      ]
     },
     "execution_count": 14,
     "metadata": {},
     "output_type": "execute_result"
    }
   ],
   "source": [
    "A_inv = np.linalg.inv(A)\n",
    "A_inv@y"
   ]
  },
  {
   "cell_type": "markdown",
   "id": "b9f4cb5a",
   "metadata": {},
   "source": [
    "### Ejercicio ###\n",
    "Construcción de curva yield"
   ]
  },
  {
   "cell_type": "code",
   "execution_count": 15,
   "id": "0db0581f",
   "metadata": {
    "scrolled": false
   },
   "outputs": [
    {
     "data": {
      "text/html": [
       "<div>\n",
       "<style scoped>\n",
       "    .dataframe tbody tr th:only-of-type {\n",
       "        vertical-align: middle;\n",
       "    }\n",
       "\n",
       "    .dataframe tbody tr th {\n",
       "        vertical-align: top;\n",
       "    }\n",
       "\n",
       "    .dataframe thead th {\n",
       "        text-align: right;\n",
       "    }\n",
       "</style>\n",
       "<table border=\"1\" class=\"dataframe\">\n",
       "  <thead>\n",
       "    <tr style=\"text-align: right;\">\n",
       "      <th></th>\n",
       "      <th>Bono</th>\n",
       "      <th>Precio</th>\n",
       "      <th>Valor Nominal</th>\n",
       "      <th>Tasa Cupon</th>\n",
       "      <th>Años a Vencimiento</th>\n",
       "    </tr>\n",
       "  </thead>\n",
       "  <tbody>\n",
       "    <tr>\n",
       "      <th>0</th>\n",
       "      <td>A</td>\n",
       "      <td>947.12</td>\n",
       "      <td>1000</td>\n",
       "      <td>5%</td>\n",
       "      <td>2</td>\n",
       "    </tr>\n",
       "    <tr>\n",
       "      <th>1</th>\n",
       "      <td>B</td>\n",
       "      <td>904.29</td>\n",
       "      <td>1000</td>\n",
       "      <td>8%</td>\n",
       "      <td>3</td>\n",
       "    </tr>\n",
       "    <tr>\n",
       "      <th>2</th>\n",
       "      <td>C</td>\n",
       "      <td>980.99</td>\n",
       "      <td>1000</td>\n",
       "      <td>10%</td>\n",
       "      <td>4</td>\n",
       "    </tr>\n",
       "  </tbody>\n",
       "</table>\n",
       "</div>"
      ],
      "text/plain": [
       "  Bono  Precio  Valor Nominal Tasa Cupon  Años a Vencimiento\n",
       "0    A  947.12           1000         5%                   2\n",
       "1    B  904.29           1000         8%                   3\n",
       "2    C  980.99           1000        10%                   4"
      ]
     },
     "execution_count": 15,
     "metadata": {},
     "output_type": "execute_result"
    }
   ],
   "source": [
    "import pandas as pd\n",
    "\n",
    "bonos = pd.DataFrame({\n",
    "    'Bono': [\"A\", \"B\", \"C\"],\n",
    "    'Precio': [947.12, 904.29, 980.99],\n",
    "    'Valor Nominal': [1000,1000,1000],\n",
    "    'Tasa Cupon': [\"5%\",\"8%\",\"10%\"],\n",
    "    'Años a Vencimiento': [2,3,4]\n",
    "})\n",
    "bonos"
   ]
  },
  {
   "cell_type": "markdown",
   "id": "6b3eb024",
   "metadata": {},
   "source": [
    "Supongamos que los bonos tienen pagos anuales y las tasas son anuales  \n",
    "$947.12=50\\cdot df_1 + 1050\\cdot df_2$   \n",
    "$904.29=80\\cdot df_1 +80\\cdot df_2 + 1080\\cdot df_3$    \n",
    "$980.99=100\\cdot df_1+100\\cdot df_2+100\\cdot df_3+1100\\cdot df_4$   \n",
    "$Flujos\\cdot DF = P$  \n",
    "\n",
    "$947.12=50\\cdot df_1 + 1050\\cdot df_2$   \n",
    "$904.29=80\\cdot df_1 +80\\cdot df_2 + 1080\\cdot df_3$    \n",
    "$980.99=100\\cdot df_1+100\\cdot df_2+100\\cdot df_3+1100\\cdot df_4$  \n",
    "$x = 50\\cdot df_1 + 1050\\cdot df_2$\n"
   ]
  },
  {
   "cell_type": "code",
   "execution_count": 16,
   "id": "fc27006f",
   "metadata": {},
   "outputs": [],
   "source": [
    "P = np.array(bonos['Precio'])\n",
    "P\n",
    "\n",
    "DF = np.zeros(4)\n",
    "\n",
    "Flujos = np.array([\n",
    "    [50,1050,0,0],\n",
    "    [80,80,1080,0],\n",
    "    [100,100,100,1100]\n",
    "])"
   ]
  },
  {
   "cell_type": "code",
   "execution_count": 44,
   "id": "1fb21807",
   "metadata": {},
   "outputs": [
    {
     "name": "stdout",
     "output_type": "stream",
     "text": [
      "m: 3\tn: 4\n",
      "Rango Matriz Flujos: 3\n",
      "Rango Matriz Aumentada Flujos: 3\n"
     ]
    }
   ],
   "source": [
    "print(f\"m: {Flujos.shape[0]}\\tn: {Flujos.shape[1]}\")\n",
    "print(f'Rango Matriz Flujos: {np.linalg.matrix_rank(Flujos)}')\n",
    "print(f'Rango Matriz Aumentada Flujos: {np.linalg.matrix_rank(np.hstack((Flujos, P.reshape(len(P),1))))}')"
   ]
  },
  {
   "cell_type": "code",
   "execution_count": 47,
   "id": "a77d6fa8",
   "metadata": {},
   "outputs": [
    {
     "data": {
      "text/plain": [
       "array([0.15450098, 0.89466186, 0.75958979, 0.72737703])"
      ]
     },
     "execution_count": 47,
     "metadata": {},
     "output_type": "execute_result"
    }
   ],
   "source": [
    "np.linalg.lstsq(Flujos,P, rcond=None)[0]"
   ]
  },
  {
   "cell_type": "code",
   "execution_count": 146,
   "id": "a2e3ee60",
   "metadata": {},
   "outputs": [
    {
     "name": "stdout",
     "output_type": "stream",
     "text": [
      "[[  50 1050    0    0]\n",
      " [  80   80 1080    0]\n",
      " [ 100  100  100 1100]] \n",
      "\n",
      "Se reduce el sistema a uno de 3 incognitas y después se resueve a partir de los resultados de este.\n",
      "[[  50 1050    0]\n",
      " [  80   80 1080]\n",
      " [ 100  100  100]]\n",
      "\n",
      "x1:  9.2278021 \n",
      "x2:  0.4625999 \n",
      "x3:  0.11949799999999994\n",
      "\n",
      "EL sistema de ecuciones restante es: \n",
      "0x4 =  9.2278021 \n",
      "0x4 =  0.4625999 \n",
      "1100 x4 = 0.11949799999999994 \n",
      " \n",
      "Despejando x4 de 1100x4 = x3 nos queda:\n",
      "\n",
      "x4 = 0.11949799999999994  / 1100\n",
      "x4 = 0.0001086345454545454\n",
      "\n",
      "x1:  9.2278021 \n",
      "x2:  0.4625999 \n",
      "x3:  0.11949799999999994 \n",
      "x4:  0.0001086345454545454\n",
      "[947.12     904.29     981.109498]\n",
      "[947.12 904.29 980.99]\n"
     ]
    },
    {
     "data": {
      "text/plain": [
       "array([ True,  True, False])"
      ]
     },
     "execution_count": 146,
     "metadata": {},
     "output_type": "execute_result"
    }
   ],
   "source": [
    "A = np.array([\n",
    "    [50, 1050, 0, 0],\n",
    "    [80, 80, 1080, 0],\n",
    "    [100, 100, 100, 1100]\n",
    "])\n",
    "print(A, '\\n')\n",
    "\n",
    "print('Se reduce el sistema a uno de 3 incognitas y después se resueve a partir de los resultados de este.')\n",
    "DF = np.array([947.12, 904.29, 980.99])\n",
    "\n",
    "A_reducida = A [:,:3]\n",
    "print(A_reducida)\n",
    "\n",
    "xs = np.linalg.solve(A_reducida, DF)\n",
    "print('\\nx1: ', xs[0], '\\nx2: ', xs[1], '\\nx3: ', xs[2])\n",
    "\n",
    "\n",
    "print('\\nEL sistema de ecuciones restante es:',\n",
    "'\\n0x4 = ', xs[0],\n",
    "'\\n0x4 = ', xs[1],\n",
    "'\\n1100 x4 =',  xs[2],'\\n',\n",
    "'\\nDespejando x4 de 1100x4 = x3 nos queda:')\n",
    "x4 = xs[2]/1100\n",
    "\n",
    "print('\\nx4 =', xs[2], ' / 1100')\n",
    "print('x4 =', x4)\n",
    "\n",
    "\n",
    "print('\\nx1: ', xs[0], '\\nx2: ', xs[1], '\\nx3: ', xs[2], '\\nx4: ', x4)\n",
    "\n",
    "# Comprobación\n",
    "\n",
    "x = np.array([xs[0], xs[1], xs[2], x4])\n",
    "\n",
    "print(A@x)\n",
    "print(DF)\n",
    "\n",
    "np.isclose(A@x,DF)\n"
   ]
  },
  {
   "cell_type": "markdown",
   "id": "6a1cf136",
   "metadata": {},
   "source": [
    "**Ejercicio:** Resolver este sistema de ecuaciones"
   ]
  },
  {
   "cell_type": "markdown",
   "id": "879aa333",
   "metadata": {},
   "source": [
    "**Más métodos de factorización**\n",
    "- Factorización QR: se utiliza en matrices $m\\times n$.  \n",
    "$A=Q\\cdot R$  \n",
    "En donde $Q$ es una matriz $m \\times m$ y $R$ es una matriz triangular superior de tamaño $m \\times n$"
   ]
  },
  {
   "cell_type": "code",
   "execution_count": 150,
   "id": "04c2b130",
   "metadata": {},
   "outputs": [
    {
     "name": "stdout",
     "output_type": "stream",
     "text": [
      "[[ 0.          0.91287093  0.40824829]\n",
      " [-0.4472136   0.36514837 -0.81649658]\n",
      " [-0.89442719 -0.18257419  0.40824829]]\n",
      "\n",
      " [[-4.47213595 -5.81377674]\n",
      " [ 0.          1.09544512]\n",
      " [ 0.          0.        ]]\n"
     ]
    },
    {
     "data": {
      "text/plain": [
       "array([[0., 1.],\n",
       "       [2., 3.],\n",
       "       [4., 5.]])"
      ]
     },
     "execution_count": 150,
     "metadata": {},
     "output_type": "execute_result"
    }
   ],
   "source": [
    "A = np.arange(6).reshape(3,2)\n",
    "Q, R = np.linalg.qr(A, 'complete')\n",
    "print(Q)\n",
    "print(\"\\n\",R)\n",
    "Q@R"
   ]
  },
  {
   "cell_type": "markdown",
   "id": "7b106bed",
   "metadata": {},
   "source": [
    "- Factorización de Cholesky: Se utiliza en matrices cuadradas positivas.  \n",
    "$A=L\\cdot L^T$  \n",
    "en donde $L$ es una matriz triangular inferior."
   ]
  },
  {
   "cell_type": "code",
   "execution_count": 157,
   "id": "16b20cfa",
   "metadata": {},
   "outputs": [
    {
     "data": {
      "text/plain": [
       "array([[1, 2, 3],\n",
       "       [4, 5, 6],\n",
       "       [7, 8, 9]])"
      ]
     },
     "execution_count": 157,
     "metadata": {},
     "output_type": "execute_result"
    }
   ],
   "source": [
    "A = np.arange(1,10).reshape(3,3)\n",
    "A"
   ]
  },
  {
   "cell_type": "code",
   "execution_count": 160,
   "id": "e4ac5e72",
   "metadata": {},
   "outputs": [
    {
     "name": "stdout",
     "output_type": "stream",
     "text": [
      "[[10.  1.  1.]\n",
      " [ 1. 10.  1.]\n",
      " [ 1.  1. 10.]]\n"
     ]
    }
   ],
   "source": [
    "A = np.array([\n",
    "    [10,1,1],\n",
    "    [1,10,1],\n",
    "    [1,1,10]\n",
    "])\n",
    "\n",
    "L = np.linalg.cholesky(A)\n",
    "print(L@L.T)"
   ]
  },
  {
   "attachments": {
    "image-2.png": {
     "image/png": "[encoded data removed]"
    }
   },
   "cell_type": "markdown",
   "id": "df7d50a2",
   "metadata": {},
   "source": [
    "- Eigenvalores y eigenvectores: Se utiliza en matrices cuadradas.\n",
    "![image-2.png](attachment:image-2.png)\n",
    "\n",
    "Ecuación de eigenvalores:  \n",
    "**$Av=\\lambda v$**"
   ]
  },
  {
   "cell_type": "code",
   "execution_count": 161,
   "id": "cd2a44a3",
   "metadata": {},
   "outputs": [],
   "source": [
    "A = np.array([\n",
    "    [1,2],\n",
    "    [3,-4]\n",
    "])\n",
    "\n",
    "v = np.array([2,1])\n",
    "lambd = 2"
   ]
  },
  {
   "cell_type": "code",
   "execution_count": 170,
   "id": "734f0ca9",
   "metadata": {
    "scrolled": true
   },
   "outputs": [
    {
     "data": {
      "text/plain": [
       "<matplotlib.patches.FancyArrow at 0x1a3917019d0>"
      ]
     },
     "execution_count": 170,
     "metadata": {},
     "output_type": "execute_result"
    },
    {
     "data": {
      "image/png": "[encoded data removed]",
      "text/plain": [
       "<Figure size 432x288 with 1 Axes>"
      ]
     },
     "metadata": {
      "needs_background": "light"
     },
     "output_type": "display_data"
    }
   ],
   "source": [
    "plt.arrow(0,0,*(A@v),color='red')\n",
    "plt.arrow(0,0,*v)"
   ]
  },
  {
   "cell_type": "code",
   "execution_count": 172,
   "id": "92556add",
   "metadata": {},
   "outputs": [
    {
     "name": "stdout",
     "output_type": "stream",
     "text": [
      "[ 2. -5.]\n",
      "[[ 0.89442719 -0.31622777]\n",
      " [ 0.4472136   0.9486833 ]]\n"
     ]
    }
   ],
   "source": [
    "evalues, evectors = np.linalg.eig(A)\n",
    "print(evalues)\n",
    "print(evectors)"
   ]
  },
  {
   "cell_type": "code",
   "execution_count": 174,
   "id": "8d6259b0",
   "metadata": {},
   "outputs": [
    {
     "data": {
      "text/plain": [
       "array([1.78885438, 0.89442719])"
      ]
     },
     "execution_count": 174,
     "metadata": {},
     "output_type": "execute_result"
    }
   ],
   "source": [
    "B = A@evectors[:,0]\n",
    "B"
   ]
  },
  {
   "cell_type": "code",
   "execution_count": 175,
   "id": "ff705c49",
   "metadata": {},
   "outputs": [
    {
     "data": {
      "text/plain": [
       "array([1.78885438, 0.89442719])"
      ]
     },
     "execution_count": 175,
     "metadata": {},
     "output_type": "execute_result"
    }
   ],
   "source": [
    "evalues[0]*evectors[:,0]"
   ]
  },
  {
   "cell_type": "markdown",
   "id": "8c270ad6",
   "metadata": {},
   "source": [
    "- Singular Value Decomposition (SVD): Podemos verlo como una generalización de la eigendescomposición.  \n",
    "$A=U\\cdot \\Sigma \\cdot V^T$  \n",
    "En donde $A$ es una matriz de $m\\times n$ que buscamos descomponer en sus partes constitutivas.  \n",
    "$U$ es una matriz de $m\\times m$  \n",
    "$\\Sigma$ es una matriz diagonal de $m\\times n$  \n",
    "$V^T$ es la matriz transpuesta de $V$ de dimensiones $n\\times n$"
   ]
  },
  {
   "cell_type": "code",
   "execution_count": 178,
   "id": "8589d865",
   "metadata": {},
   "outputs": [
    {
     "name": "stdout",
     "output_type": "stream",
     "text": [
      "[[-0.10818576  0.90643763  0.40824829]\n",
      " [-0.48733624  0.30957507 -0.81649658]\n",
      " [-0.86648672 -0.28728749  0.40824829]]\n",
      "\n",
      "[7.38648213 0.66323581]\n",
      "\n",
      "[[-0.6011819  -0.79911221]\n",
      " [-0.79911221  0.6011819 ]]\n"
     ]
    }
   ],
   "source": [
    "from scipy.linalg import svd\n",
    "A = np.arange(6).reshape(3,2)\n",
    "U, s, V = svd(A)\n",
    "print(U)\n",
    "print()\n",
    "print(s)\n",
    "print()\n",
    "print(V)"
   ]
  },
  {
   "cell_type": "markdown",
   "id": "e8b79c1a",
   "metadata": {},
   "source": [
    "**Principal Components Analysis (PCA)**  \n",
    "El objetivo del PCA es identificar una base tal que cada vector que conforma la base maximiza la covarianza manteniendo la ortogonalidad a todos los demás vectores que conforman la base.  \n",
    "\n",
    "Es un método que sirve para reducir la dimensionalidad de los datos, podemos pensarlo como si proyectaramos una matriz con $m$ columnas en un subespacio con $m$ o menos columnas manteniendo la esencia de los datos originales.  \n",
    "\n",
    "1. Calculamos el promedio de cada columna.\n",
    "2. Centramos los valores de cada columna.\n",
    "3. Calculamos la matriz de covarianza de los datos centrados.\n",
    "4. Calculamos la eigendescomposición de la matriz de covarianza."
   ]
  },
  {
   "cell_type": "markdown",
   "id": "bf9cc9d8",
   "metadata": {},
   "source": [
    "Documentación Quandl para obtener las tasas yield:  \n",
    "https://www.quandl.com/tools/python  \n",
    "https://github.com/quandl/quandl-python/blob/master/FOR_ANALYSTS.md"
   ]
  },
  {
   "cell_type": "markdown",
   "id": "6942e5b9",
   "metadata": {},
   "source": [
    "**Ejemplo: Movimientos en las tasas de interés**\n",
    "![Curvas](img/curves_mov.png)"
   ]
  },
  {
   "cell_type": "markdown",
   "id": "9e6fb69b",
   "metadata": {},
   "source": [
    "!pip install quandl"
   ]
  },
  {
   "cell_type": "code",
   "execution_count": 133,
   "id": "057e8aa0",
   "metadata": {},
   "outputs": [
    {
     "data": {
      "text/html": [
       "<div>\n",
       "<style scoped>\n",
       "    .dataframe tbody tr th:only-of-type {\n",
       "        vertical-align: middle;\n",
       "    }\n",
       "\n",
       "    .dataframe tbody tr th {\n",
       "        vertical-align: top;\n",
       "    }\n",
       "\n",
       "    .dataframe thead th {\n",
       "        text-align: right;\n",
       "    }\n",
       "</style>\n",
       "<table border=\"1\" class=\"dataframe\">\n",
       "  <thead>\n",
       "    <tr style=\"text-align: right;\">\n",
       "      <th></th>\n",
       "      <th>1 MO</th>\n",
       "      <th>3 MO</th>\n",
       "      <th>6 MO</th>\n",
       "      <th>1 YR</th>\n",
       "      <th>2 YR</th>\n",
       "      <th>3 YR</th>\n",
       "      <th>5 YR</th>\n",
       "      <th>7 YR</th>\n",
       "      <th>10 YR</th>\n",
       "      <th>20 YR</th>\n",
       "      <th>30 YR</th>\n",
       "    </tr>\n",
       "    <tr>\n",
       "      <th>Date</th>\n",
       "      <th></th>\n",
       "      <th></th>\n",
       "      <th></th>\n",
       "      <th></th>\n",
       "      <th></th>\n",
       "      <th></th>\n",
       "      <th></th>\n",
       "      <th></th>\n",
       "      <th></th>\n",
       "      <th></th>\n",
       "      <th></th>\n",
       "    </tr>\n",
       "  </thead>\n",
       "  <tbody>\n",
       "    <tr>\n",
       "      <th>2016-09-01</th>\n",
       "      <td>0.27</td>\n",
       "      <td>0.33</td>\n",
       "      <td>0.47</td>\n",
       "      <td>0.60</td>\n",
       "      <td>0.78</td>\n",
       "      <td>0.91</td>\n",
       "      <td>1.18</td>\n",
       "      <td>1.44</td>\n",
       "      <td>1.57</td>\n",
       "      <td>1.90</td>\n",
       "      <td>2.23</td>\n",
       "    </tr>\n",
       "    <tr>\n",
       "      <th>2016-09-02</th>\n",
       "      <td>0.25</td>\n",
       "      <td>0.33</td>\n",
       "      <td>0.45</td>\n",
       "      <td>0.59</td>\n",
       "      <td>0.80</td>\n",
       "      <td>0.92</td>\n",
       "      <td>1.20</td>\n",
       "      <td>1.47</td>\n",
       "      <td>1.60</td>\n",
       "      <td>1.95</td>\n",
       "      <td>2.28</td>\n",
       "    </tr>\n",
       "    <tr>\n",
       "      <th>2016-09-06</th>\n",
       "      <td>0.24</td>\n",
       "      <td>0.32</td>\n",
       "      <td>0.45</td>\n",
       "      <td>0.56</td>\n",
       "      <td>0.74</td>\n",
       "      <td>0.86</td>\n",
       "      <td>1.13</td>\n",
       "      <td>1.40</td>\n",
       "      <td>1.55</td>\n",
       "      <td>1.90</td>\n",
       "      <td>2.24</td>\n",
       "    </tr>\n",
       "    <tr>\n",
       "      <th>2016-09-07</th>\n",
       "      <td>0.25</td>\n",
       "      <td>0.34</td>\n",
       "      <td>0.49</td>\n",
       "      <td>0.57</td>\n",
       "      <td>0.74</td>\n",
       "      <td>0.86</td>\n",
       "      <td>1.12</td>\n",
       "      <td>1.39</td>\n",
       "      <td>1.54</td>\n",
       "      <td>1.89</td>\n",
       "      <td>2.23</td>\n",
       "    </tr>\n",
       "    <tr>\n",
       "      <th>2016-09-08</th>\n",
       "      <td>0.26</td>\n",
       "      <td>0.35</td>\n",
       "      <td>0.50</td>\n",
       "      <td>0.57</td>\n",
       "      <td>0.78</td>\n",
       "      <td>0.91</td>\n",
       "      <td>1.19</td>\n",
       "      <td>1.46</td>\n",
       "      <td>1.61</td>\n",
       "      <td>1.98</td>\n",
       "      <td>2.32</td>\n",
       "    </tr>\n",
       "    <tr>\n",
       "      <th>...</th>\n",
       "      <td>...</td>\n",
       "      <td>...</td>\n",
       "      <td>...</td>\n",
       "      <td>...</td>\n",
       "      <td>...</td>\n",
       "      <td>...</td>\n",
       "      <td>...</td>\n",
       "      <td>...</td>\n",
       "      <td>...</td>\n",
       "      <td>...</td>\n",
       "      <td>...</td>\n",
       "    </tr>\n",
       "    <tr>\n",
       "      <th>2021-08-26</th>\n",
       "      <td>0.04</td>\n",
       "      <td>0.05</td>\n",
       "      <td>0.06</td>\n",
       "      <td>0.07</td>\n",
       "      <td>0.25</td>\n",
       "      <td>0.46</td>\n",
       "      <td>0.84</td>\n",
       "      <td>1.13</td>\n",
       "      <td>1.34</td>\n",
       "      <td>1.87</td>\n",
       "      <td>1.94</td>\n",
       "    </tr>\n",
       "    <tr>\n",
       "      <th>2021-08-27</th>\n",
       "      <td>0.04</td>\n",
       "      <td>0.05</td>\n",
       "      <td>0.05</td>\n",
       "      <td>0.07</td>\n",
       "      <td>0.22</td>\n",
       "      <td>0.41</td>\n",
       "      <td>0.79</td>\n",
       "      <td>1.09</td>\n",
       "      <td>1.31</td>\n",
       "      <td>1.84</td>\n",
       "      <td>1.91</td>\n",
       "    </tr>\n",
       "    <tr>\n",
       "      <th>2021-08-30</th>\n",
       "      <td>0.04</td>\n",
       "      <td>0.05</td>\n",
       "      <td>0.05</td>\n",
       "      <td>0.08</td>\n",
       "      <td>0.20</td>\n",
       "      <td>0.40</td>\n",
       "      <td>0.77</td>\n",
       "      <td>1.07</td>\n",
       "      <td>1.29</td>\n",
       "      <td>1.82</td>\n",
       "      <td>1.90</td>\n",
       "    </tr>\n",
       "    <tr>\n",
       "      <th>2021-08-31</th>\n",
       "      <td>0.03</td>\n",
       "      <td>0.04</td>\n",
       "      <td>0.06</td>\n",
       "      <td>0.07</td>\n",
       "      <td>0.20</td>\n",
       "      <td>0.40</td>\n",
       "      <td>0.77</td>\n",
       "      <td>1.08</td>\n",
       "      <td>1.30</td>\n",
       "      <td>1.85</td>\n",
       "      <td>1.92</td>\n",
       "    </tr>\n",
       "    <tr>\n",
       "      <th>2021-09-01</th>\n",
       "      <td>0.04</td>\n",
       "      <td>0.05</td>\n",
       "      <td>0.06</td>\n",
       "      <td>0.07</td>\n",
       "      <td>0.20</td>\n",
       "      <td>0.42</td>\n",
       "      <td>0.78</td>\n",
       "      <td>1.08</td>\n",
       "      <td>1.31</td>\n",
       "      <td>1.84</td>\n",
       "      <td>1.92</td>\n",
       "    </tr>\n",
       "  </tbody>\n",
       "</table>\n",
       "<p>1251 rows × 11 columns</p>\n",
       "</div>"
      ],
      "text/plain": [
       "            1 MO  3 MO  6 MO  1 YR  2 YR  3 YR  5 YR  7 YR  10 YR  20 YR  \\\n",
       "Date                                                                       \n",
       "2016-09-01  0.27  0.33  0.47  0.60  0.78  0.91  1.18  1.44   1.57   1.90   \n",
       "2016-09-02  0.25  0.33  0.45  0.59  0.80  0.92  1.20  1.47   1.60   1.95   \n",
       "2016-09-06  0.24  0.32  0.45  0.56  0.74  0.86  1.13  1.40   1.55   1.90   \n",
       "2016-09-07  0.25  0.34  0.49  0.57  0.74  0.86  1.12  1.39   1.54   1.89   \n",
       "2016-09-08  0.26  0.35  0.50  0.57  0.78  0.91  1.19  1.46   1.61   1.98   \n",
       "...          ...   ...   ...   ...   ...   ...   ...   ...    ...    ...   \n",
       "2021-08-26  0.04  0.05  0.06  0.07  0.25  0.46  0.84  1.13   1.34   1.87   \n",
       "2021-08-27  0.04  0.05  0.05  0.07  0.22  0.41  0.79  1.09   1.31   1.84   \n",
       "2021-08-30  0.04  0.05  0.05  0.08  0.20  0.40  0.77  1.07   1.29   1.82   \n",
       "2021-08-31  0.03  0.04  0.06  0.07  0.20  0.40  0.77  1.08   1.30   1.85   \n",
       "2021-09-01  0.04  0.05  0.06  0.07  0.20  0.42  0.78  1.08   1.31   1.84   \n",
       "\n",
       "            30 YR  \n",
       "Date               \n",
       "2016-09-01   2.23  \n",
       "2016-09-02   2.28  \n",
       "2016-09-06   2.24  \n",
       "2016-09-07   2.23  \n",
       "2016-09-08   2.32  \n",
       "...           ...  \n",
       "2021-08-26   1.94  \n",
       "2021-08-27   1.91  \n",
       "2021-08-30   1.90  \n",
       "2021-08-31   1.92  \n",
       "2021-09-01   1.92  \n",
       "\n",
       "[1251 rows x 11 columns]"
      ]
     },
     "execution_count": 133,
     "metadata": {},
     "output_type": "execute_result"
    }
   ],
   "source": [
    "import quandl\n",
    "data = quandl.get(\"USTREASURY/YIELD\", start_date=\"2016-09-01\", end_date=\"2021-09-01\")\n",
    "data = data.dropna(axis=1)"
   ]
  },
  {
   "cell_type": "code",
   "execution_count": 180,
   "id": "837321c5",
   "metadata": {},
   "outputs": [
    {
     "data": {
      "text/plain": [
       "<AxesSubplot:>"
      ]
     },
     "execution_count": 180,
     "metadata": {},
     "output_type": "execute_result"
    },
    {
     "data": {
      "image/png": "[encoded data removed]",
      "text/plain": [
       "<Figure size 864x432 with 1 Axes>"
      ]
     },
     "metadata": {
      "needs_background": "light"
     },
     "output_type": "display_data"
    }
   ],
   "source": [
    "data.iloc[-1].plot(figsize=(12,6))"
   ]
  },
  {
   "cell_type": "code",
   "execution_count": 182,
   "id": "700167d1",
   "metadata": {},
   "outputs": [
    {
     "data": {
      "text/plain": [
       "<AxesSubplot:xlabel='Date'>"
      ]
     },
     "execution_count": 182,
     "metadata": {},
     "output_type": "execute_result"
    },
    {
     "data": {
      "image/png": "[encoded data removed]",
      "text/plain": [
       "<Figure size 864x432 with 1 Axes>"
      ]
     },
     "metadata": {
      "needs_background": "light"
     },
     "output_type": "display_data"
    }
   ],
   "source": [
    "data.plot(figsize=(12,6))"
   ]
  },
  {
   "cell_type": "code",
   "execution_count": 185,
   "id": "7c0ab4ea",
   "metadata": {},
   "outputs": [],
   "source": [
    "data.to_csv('yields_5y.csv')"
   ]
  },
  {
   "cell_type": "code",
   "execution_count": 189,
   "id": "580e91e5",
   "metadata": {},
   "outputs": [
    {
     "data": {
      "text/plain": [
       "<AxesSubplot:>"
      ]
     },
     "execution_count": 189,
     "metadata": {},
     "output_type": "execute_result"
    },
    {
     "data": {
      "image/png": "[encoded data removed]",
      "text/plain": [
       "<Figure size 864x432 with 1 Axes>"
      ]
     },
     "metadata": {
      "needs_background": "light"
     },
     "output_type": "display_data"
    }
   ],
   "source": [
    "data.T.iloc[:,::50].plot(legend=None,figsize=(12,6))"
   ]
  },
  {
   "cell_type": "code",
   "execution_count": 190,
   "id": "47150d01",
   "metadata": {},
   "outputs": [
    {
     "data": {
      "text/plain": [
       "1 MO     1.054444\n",
       "3 MO     1.106914\n",
       "6 MO     1.179592\n",
       "1 YR     1.245180\n",
       "2 YR     1.339217\n",
       "3 YR     1.429808\n",
       "5 YR     1.624716\n",
       "7 YR     1.823165\n",
       "10 YR    1.975252\n",
       "20 YR    2.308145\n",
       "30 YR    2.488122\n",
       "dtype: float64"
      ]
     },
     "execution_count": 190,
     "metadata": {},
     "output_type": "execute_result"
    }
   ],
   "source": [
    "# Promedio de cada columna\n",
    "M = data.mean()\n",
    "M"
   ]
  },
  {
   "cell_type": "code",
   "execution_count": 193,
   "id": "0e9aa062",
   "metadata": {},
   "outputs": [
    {
     "data": {
      "text/html": [
       "<div>\n",
       "<style scoped>\n",
       "    .dataframe tbody tr th:only-of-type {\n",
       "        vertical-align: middle;\n",
       "    }\n",
       "\n",
       "    .dataframe tbody tr th {\n",
       "        vertical-align: top;\n",
       "    }\n",
       "\n",
       "    .dataframe thead th {\n",
       "        text-align: right;\n",
       "    }\n",
       "</style>\n",
       "<table border=\"1\" class=\"dataframe\">\n",
       "  <thead>\n",
       "    <tr style=\"text-align: right;\">\n",
       "      <th></th>\n",
       "      <th>1 MO</th>\n",
       "      <th>3 MO</th>\n",
       "      <th>6 MO</th>\n",
       "      <th>1 YR</th>\n",
       "      <th>2 YR</th>\n",
       "      <th>3 YR</th>\n",
       "      <th>5 YR</th>\n",
       "      <th>7 YR</th>\n",
       "      <th>10 YR</th>\n",
       "      <th>20 YR</th>\n",
       "      <th>30 YR</th>\n",
       "    </tr>\n",
       "    <tr>\n",
       "      <th>Date</th>\n",
       "      <th></th>\n",
       "      <th></th>\n",
       "      <th></th>\n",
       "      <th></th>\n",
       "      <th></th>\n",
       "      <th></th>\n",
       "      <th></th>\n",
       "      <th></th>\n",
       "      <th></th>\n",
       "      <th></th>\n",
       "      <th></th>\n",
       "    </tr>\n",
       "  </thead>\n",
       "  <tbody>\n",
       "    <tr>\n",
       "      <th>2016-09-01</th>\n",
       "      <td>0.27</td>\n",
       "      <td>0.33</td>\n",
       "      <td>0.47</td>\n",
       "      <td>0.60</td>\n",
       "      <td>0.78</td>\n",
       "      <td>0.91</td>\n",
       "      <td>1.18</td>\n",
       "      <td>1.44</td>\n",
       "      <td>1.57</td>\n",
       "      <td>1.90</td>\n",
       "      <td>2.23</td>\n",
       "    </tr>\n",
       "    <tr>\n",
       "      <th>2016-09-02</th>\n",
       "      <td>0.25</td>\n",
       "      <td>0.33</td>\n",
       "      <td>0.45</td>\n",
       "      <td>0.59</td>\n",
       "      <td>0.80</td>\n",
       "      <td>0.92</td>\n",
       "      <td>1.20</td>\n",
       "      <td>1.47</td>\n",
       "      <td>1.60</td>\n",
       "      <td>1.95</td>\n",
       "      <td>2.28</td>\n",
       "    </tr>\n",
       "    <tr>\n",
       "      <th>2016-09-06</th>\n",
       "      <td>0.24</td>\n",
       "      <td>0.32</td>\n",
       "      <td>0.45</td>\n",
       "      <td>0.56</td>\n",
       "      <td>0.74</td>\n",
       "      <td>0.86</td>\n",
       "      <td>1.13</td>\n",
       "      <td>1.40</td>\n",
       "      <td>1.55</td>\n",
       "      <td>1.90</td>\n",
       "      <td>2.24</td>\n",
       "    </tr>\n",
       "    <tr>\n",
       "      <th>2016-09-07</th>\n",
       "      <td>0.25</td>\n",
       "      <td>0.34</td>\n",
       "      <td>0.49</td>\n",
       "      <td>0.57</td>\n",
       "      <td>0.74</td>\n",
       "      <td>0.86</td>\n",
       "      <td>1.12</td>\n",
       "      <td>1.39</td>\n",
       "      <td>1.54</td>\n",
       "      <td>1.89</td>\n",
       "      <td>2.23</td>\n",
       "    </tr>\n",
       "    <tr>\n",
       "      <th>2016-09-08</th>\n",
       "      <td>0.26</td>\n",
       "      <td>0.35</td>\n",
       "      <td>0.50</td>\n",
       "      <td>0.57</td>\n",
       "      <td>0.78</td>\n",
       "      <td>0.91</td>\n",
       "      <td>1.19</td>\n",
       "      <td>1.46</td>\n",
       "      <td>1.61</td>\n",
       "      <td>1.98</td>\n",
       "      <td>2.32</td>\n",
       "    </tr>\n",
       "    <tr>\n",
       "      <th>...</th>\n",
       "      <td>...</td>\n",
       "      <td>...</td>\n",
       "      <td>...</td>\n",
       "      <td>...</td>\n",
       "      <td>...</td>\n",
       "      <td>...</td>\n",
       "      <td>...</td>\n",
       "      <td>...</td>\n",
       "      <td>...</td>\n",
       "      <td>...</td>\n",
       "      <td>...</td>\n",
       "    </tr>\n",
       "    <tr>\n",
       "      <th>2021-08-26</th>\n",
       "      <td>0.04</td>\n",
       "      <td>0.05</td>\n",
       "      <td>0.06</td>\n",
       "      <td>0.07</td>\n",
       "      <td>0.25</td>\n",
       "      <td>0.46</td>\n",
       "      <td>0.84</td>\n",
       "      <td>1.13</td>\n",
       "      <td>1.34</td>\n",
       "      <td>1.87</td>\n",
       "      <td>1.94</td>\n",
       "    </tr>\n",
       "    <tr>\n",
       "      <th>2021-08-27</th>\n",
       "      <td>0.04</td>\n",
       "      <td>0.05</td>\n",
       "      <td>0.05</td>\n",
       "      <td>0.07</td>\n",
       "      <td>0.22</td>\n",
       "      <td>0.41</td>\n",
       "      <td>0.79</td>\n",
       "      <td>1.09</td>\n",
       "      <td>1.31</td>\n",
       "      <td>1.84</td>\n",
       "      <td>1.91</td>\n",
       "    </tr>\n",
       "    <tr>\n",
       "      <th>2021-08-30</th>\n",
       "      <td>0.04</td>\n",
       "      <td>0.05</td>\n",
       "      <td>0.05</td>\n",
       "      <td>0.08</td>\n",
       "      <td>0.20</td>\n",
       "      <td>0.40</td>\n",
       "      <td>0.77</td>\n",
       "      <td>1.07</td>\n",
       "      <td>1.29</td>\n",
       "      <td>1.82</td>\n",
       "      <td>1.90</td>\n",
       "    </tr>\n",
       "    <tr>\n",
       "      <th>2021-08-31</th>\n",
       "      <td>0.03</td>\n",
       "      <td>0.04</td>\n",
       "      <td>0.06</td>\n",
       "      <td>0.07</td>\n",
       "      <td>0.20</td>\n",
       "      <td>0.40</td>\n",
       "      <td>0.77</td>\n",
       "      <td>1.08</td>\n",
       "      <td>1.30</td>\n",
       "      <td>1.85</td>\n",
       "      <td>1.92</td>\n",
       "    </tr>\n",
       "    <tr>\n",
       "      <th>2021-09-01</th>\n",
       "      <td>0.04</td>\n",
       "      <td>0.05</td>\n",
       "      <td>0.06</td>\n",
       "      <td>0.07</td>\n",
       "      <td>0.20</td>\n",
       "      <td>0.42</td>\n",
       "      <td>0.78</td>\n",
       "      <td>1.08</td>\n",
       "      <td>1.31</td>\n",
       "      <td>1.84</td>\n",
       "      <td>1.92</td>\n",
       "    </tr>\n",
       "  </tbody>\n",
       "</table>\n",
       "<p>1251 rows × 11 columns</p>\n",
       "</div>"
      ],
      "text/plain": [
       "            1 MO  3 MO  6 MO  1 YR  2 YR  3 YR  5 YR  7 YR  10 YR  20 YR  \\\n",
       "Date                                                                       \n",
       "2016-09-01  0.27  0.33  0.47  0.60  0.78  0.91  1.18  1.44   1.57   1.90   \n",
       "2016-09-02  0.25  0.33  0.45  0.59  0.80  0.92  1.20  1.47   1.60   1.95   \n",
       "2016-09-06  0.24  0.32  0.45  0.56  0.74  0.86  1.13  1.40   1.55   1.90   \n",
       "2016-09-07  0.25  0.34  0.49  0.57  0.74  0.86  1.12  1.39   1.54   1.89   \n",
       "2016-09-08  0.26  0.35  0.50  0.57  0.78  0.91  1.19  1.46   1.61   1.98   \n",
       "...          ...   ...   ...   ...   ...   ...   ...   ...    ...    ...   \n",
       "2021-08-26  0.04  0.05  0.06  0.07  0.25  0.46  0.84  1.13   1.34   1.87   \n",
       "2021-08-27  0.04  0.05  0.05  0.07  0.22  0.41  0.79  1.09   1.31   1.84   \n",
       "2021-08-30  0.04  0.05  0.05  0.08  0.20  0.40  0.77  1.07   1.29   1.82   \n",
       "2021-08-31  0.03  0.04  0.06  0.07  0.20  0.40  0.77  1.08   1.30   1.85   \n",
       "2021-09-01  0.04  0.05  0.06  0.07  0.20  0.42  0.78  1.08   1.31   1.84   \n",
       "\n",
       "            30 YR  \n",
       "Date               \n",
       "2016-09-01   2.23  \n",
       "2016-09-02   2.28  \n",
       "2016-09-06   2.24  \n",
       "2016-09-07   2.23  \n",
       "2016-09-08   2.32  \n",
       "...           ...  \n",
       "2021-08-26   1.94  \n",
       "2021-08-27   1.91  \n",
       "2021-08-30   1.90  \n",
       "2021-08-31   1.92  \n",
       "2021-09-01   1.92  \n",
       "\n",
       "[1251 rows x 11 columns]"
      ]
     },
     "execution_count": 193,
     "metadata": {},
     "output_type": "execute_result"
    }
   ],
   "source": [
    "data"
   ]
  },
  {
   "cell_type": "code",
   "execution_count": 194,
   "id": "a1765dd4",
   "metadata": {},
   "outputs": [
    {
     "data": {
      "text/plain": [
       "-0.7844439999999999"
      ]
     },
     "execution_count": 194,
     "metadata": {},
     "output_type": "execute_result"
    }
   ],
   "source": [
    "0.27-1.054444"
   ]
  },
  {
   "cell_type": "code",
   "execution_count": 192,
   "id": "80b9ad34",
   "metadata": {},
   "outputs": [
    {
     "data": {
      "text/html": [
       "<div>\n",
       "<style scoped>\n",
       "    .dataframe tbody tr th:only-of-type {\n",
       "        vertical-align: middle;\n",
       "    }\n",
       "\n",
       "    .dataframe tbody tr th {\n",
       "        vertical-align: top;\n",
       "    }\n",
       "\n",
       "    .dataframe thead th {\n",
       "        text-align: right;\n",
       "    }\n",
       "</style>\n",
       "<table border=\"1\" class=\"dataframe\">\n",
       "  <thead>\n",
       "    <tr style=\"text-align: right;\">\n",
       "      <th></th>\n",
       "      <th>1 MO</th>\n",
       "      <th>3 MO</th>\n",
       "      <th>6 MO</th>\n",
       "      <th>1 YR</th>\n",
       "      <th>2 YR</th>\n",
       "      <th>3 YR</th>\n",
       "      <th>5 YR</th>\n",
       "      <th>7 YR</th>\n",
       "      <th>10 YR</th>\n",
       "      <th>20 YR</th>\n",
       "      <th>30 YR</th>\n",
       "    </tr>\n",
       "    <tr>\n",
       "      <th>Date</th>\n",
       "      <th></th>\n",
       "      <th></th>\n",
       "      <th></th>\n",
       "      <th></th>\n",
       "      <th></th>\n",
       "      <th></th>\n",
       "      <th></th>\n",
       "      <th></th>\n",
       "      <th></th>\n",
       "      <th></th>\n",
       "      <th></th>\n",
       "    </tr>\n",
       "  </thead>\n",
       "  <tbody>\n",
       "    <tr>\n",
       "      <th>2016-09-01</th>\n",
       "      <td>-0.784444</td>\n",
       "      <td>-0.776914</td>\n",
       "      <td>-0.709592</td>\n",
       "      <td>-0.64518</td>\n",
       "      <td>-0.559217</td>\n",
       "      <td>-0.519808</td>\n",
       "      <td>-0.444716</td>\n",
       "      <td>-0.383165</td>\n",
       "      <td>-0.405252</td>\n",
       "      <td>-0.408145</td>\n",
       "      <td>-0.258122</td>\n",
       "    </tr>\n",
       "    <tr>\n",
       "      <th>2016-09-02</th>\n",
       "      <td>-0.804444</td>\n",
       "      <td>-0.776914</td>\n",
       "      <td>-0.729592</td>\n",
       "      <td>-0.65518</td>\n",
       "      <td>-0.539217</td>\n",
       "      <td>-0.509808</td>\n",
       "      <td>-0.424716</td>\n",
       "      <td>-0.353165</td>\n",
       "      <td>-0.375252</td>\n",
       "      <td>-0.358145</td>\n",
       "      <td>-0.208122</td>\n",
       "    </tr>\n",
       "    <tr>\n",
       "      <th>2016-09-06</th>\n",
       "      <td>-0.814444</td>\n",
       "      <td>-0.786914</td>\n",
       "      <td>-0.729592</td>\n",
       "      <td>-0.68518</td>\n",
       "      <td>-0.599217</td>\n",
       "      <td>-0.569808</td>\n",
       "      <td>-0.494716</td>\n",
       "      <td>-0.423165</td>\n",
       "      <td>-0.425252</td>\n",
       "      <td>-0.408145</td>\n",
       "      <td>-0.248122</td>\n",
       "    </tr>\n",
       "    <tr>\n",
       "      <th>2016-09-07</th>\n",
       "      <td>-0.804444</td>\n",
       "      <td>-0.766914</td>\n",
       "      <td>-0.689592</td>\n",
       "      <td>-0.67518</td>\n",
       "      <td>-0.599217</td>\n",
       "      <td>-0.569808</td>\n",
       "      <td>-0.504716</td>\n",
       "      <td>-0.433165</td>\n",
       "      <td>-0.435252</td>\n",
       "      <td>-0.418145</td>\n",
       "      <td>-0.258122</td>\n",
       "    </tr>\n",
       "    <tr>\n",
       "      <th>2016-09-08</th>\n",
       "      <td>-0.794444</td>\n",
       "      <td>-0.756914</td>\n",
       "      <td>-0.679592</td>\n",
       "      <td>-0.67518</td>\n",
       "      <td>-0.559217</td>\n",
       "      <td>-0.519808</td>\n",
       "      <td>-0.434716</td>\n",
       "      <td>-0.363165</td>\n",
       "      <td>-0.365252</td>\n",
       "      <td>-0.328145</td>\n",
       "      <td>-0.168122</td>\n",
       "    </tr>\n",
       "    <tr>\n",
       "      <th>...</th>\n",
       "      <td>...</td>\n",
       "      <td>...</td>\n",
       "      <td>...</td>\n",
       "      <td>...</td>\n",
       "      <td>...</td>\n",
       "      <td>...</td>\n",
       "      <td>...</td>\n",
       "      <td>...</td>\n",
       "      <td>...</td>\n",
       "      <td>...</td>\n",
       "      <td>...</td>\n",
       "    </tr>\n",
       "    <tr>\n",
       "      <th>2021-08-26</th>\n",
       "      <td>-1.014444</td>\n",
       "      <td>-1.056914</td>\n",
       "      <td>-1.119592</td>\n",
       "      <td>-1.17518</td>\n",
       "      <td>-1.089217</td>\n",
       "      <td>-0.969808</td>\n",
       "      <td>-0.784716</td>\n",
       "      <td>-0.693165</td>\n",
       "      <td>-0.635252</td>\n",
       "      <td>-0.438145</td>\n",
       "      <td>-0.548122</td>\n",
       "    </tr>\n",
       "    <tr>\n",
       "      <th>2021-08-27</th>\n",
       "      <td>-1.014444</td>\n",
       "      <td>-1.056914</td>\n",
       "      <td>-1.129592</td>\n",
       "      <td>-1.17518</td>\n",
       "      <td>-1.119217</td>\n",
       "      <td>-1.019808</td>\n",
       "      <td>-0.834716</td>\n",
       "      <td>-0.733165</td>\n",
       "      <td>-0.665252</td>\n",
       "      <td>-0.468145</td>\n",
       "      <td>-0.578122</td>\n",
       "    </tr>\n",
       "    <tr>\n",
       "      <th>2021-08-30</th>\n",
       "      <td>-1.014444</td>\n",
       "      <td>-1.056914</td>\n",
       "      <td>-1.129592</td>\n",
       "      <td>-1.16518</td>\n",
       "      <td>-1.139217</td>\n",
       "      <td>-1.029808</td>\n",
       "      <td>-0.854716</td>\n",
       "      <td>-0.753165</td>\n",
       "      <td>-0.685252</td>\n",
       "      <td>-0.488145</td>\n",
       "      <td>-0.588122</td>\n",
       "    </tr>\n",
       "    <tr>\n",
       "      <th>2021-08-31</th>\n",
       "      <td>-1.024444</td>\n",
       "      <td>-1.066914</td>\n",
       "      <td>-1.119592</td>\n",
       "      <td>-1.17518</td>\n",
       "      <td>-1.139217</td>\n",
       "      <td>-1.029808</td>\n",
       "      <td>-0.854716</td>\n",
       "      <td>-0.743165</td>\n",
       "      <td>-0.675252</td>\n",
       "      <td>-0.458145</td>\n",
       "      <td>-0.568122</td>\n",
       "    </tr>\n",
       "    <tr>\n",
       "      <th>2021-09-01</th>\n",
       "      <td>-1.014444</td>\n",
       "      <td>-1.056914</td>\n",
       "      <td>-1.119592</td>\n",
       "      <td>-1.17518</td>\n",
       "      <td>-1.139217</td>\n",
       "      <td>-1.009808</td>\n",
       "      <td>-0.844716</td>\n",
       "      <td>-0.743165</td>\n",
       "      <td>-0.665252</td>\n",
       "      <td>-0.468145</td>\n",
       "      <td>-0.568122</td>\n",
       "    </tr>\n",
       "  </tbody>\n",
       "</table>\n",
       "<p>1251 rows × 11 columns</p>\n",
       "</div>"
      ],
      "text/plain": [
       "                1 MO      3 MO      6 MO     1 YR      2 YR      3 YR  \\\n",
       "Date                                                                    \n",
       "2016-09-01 -0.784444 -0.776914 -0.709592 -0.64518 -0.559217 -0.519808   \n",
       "2016-09-02 -0.804444 -0.776914 -0.729592 -0.65518 -0.539217 -0.509808   \n",
       "2016-09-06 -0.814444 -0.786914 -0.729592 -0.68518 -0.599217 -0.569808   \n",
       "2016-09-07 -0.804444 -0.766914 -0.689592 -0.67518 -0.599217 -0.569808   \n",
       "2016-09-08 -0.794444 -0.756914 -0.679592 -0.67518 -0.559217 -0.519808   \n",
       "...              ...       ...       ...      ...       ...       ...   \n",
       "2021-08-26 -1.014444 -1.056914 -1.119592 -1.17518 -1.089217 -0.969808   \n",
       "2021-08-27 -1.014444 -1.056914 -1.129592 -1.17518 -1.119217 -1.019808   \n",
       "2021-08-30 -1.014444 -1.056914 -1.129592 -1.16518 -1.139217 -1.029808   \n",
       "2021-08-31 -1.024444 -1.066914 -1.119592 -1.17518 -1.139217 -1.029808   \n",
       "2021-09-01 -1.014444 -1.056914 -1.119592 -1.17518 -1.139217 -1.009808   \n",
       "\n",
       "                5 YR      7 YR     10 YR     20 YR     30 YR  \n",
       "Date                                                          \n",
       "2016-09-01 -0.444716 -0.383165 -0.405252 -0.408145 -0.258122  \n",
       "2016-09-02 -0.424716 -0.353165 -0.375252 -0.358145 -0.208122  \n",
       "2016-09-06 -0.494716 -0.423165 -0.425252 -0.408145 -0.248122  \n",
       "2016-09-07 -0.504716 -0.433165 -0.435252 -0.418145 -0.258122  \n",
       "2016-09-08 -0.434716 -0.363165 -0.365252 -0.328145 -0.168122  \n",
       "...              ...       ...       ...       ...       ...  \n",
       "2021-08-26 -0.784716 -0.693165 -0.635252 -0.438145 -0.548122  \n",
       "2021-08-27 -0.834716 -0.733165 -0.665252 -0.468145 -0.578122  \n",
       "2021-08-30 -0.854716 -0.753165 -0.685252 -0.488145 -0.588122  \n",
       "2021-08-31 -0.854716 -0.743165 -0.675252 -0.458145 -0.568122  \n",
       "2021-09-01 -0.844716 -0.743165 -0.665252 -0.468145 -0.568122  \n",
       "\n",
       "[1251 rows x 11 columns]"
      ]
     },
     "execution_count": 192,
     "metadata": {},
     "output_type": "execute_result"
    }
   ],
   "source": [
    "# Centrar los valores de cada columna\n",
    "C = data - M\n",
    "C"
   ]
  },
  {
   "cell_type": "code",
   "execution_count": 195,
   "id": "0e4babd2",
   "metadata": {
    "scrolled": true
   },
   "outputs": [
    {
     "data": {
      "text/html": [
       "<div>\n",
       "<style scoped>\n",
       "    .dataframe tbody tr th:only-of-type {\n",
       "        vertical-align: middle;\n",
       "    }\n",
       "\n",
       "    .dataframe tbody tr th {\n",
       "        vertical-align: top;\n",
       "    }\n",
       "\n",
       "    .dataframe thead th {\n",
       "        text-align: right;\n",
       "    }\n",
       "</style>\n",
       "<table border=\"1\" class=\"dataframe\">\n",
       "  <thead>\n",
       "    <tr style=\"text-align: right;\">\n",
       "      <th></th>\n",
       "      <th>1 MO</th>\n",
       "      <th>3 MO</th>\n",
       "      <th>6 MO</th>\n",
       "      <th>1 YR</th>\n",
       "      <th>2 YR</th>\n",
       "      <th>3 YR</th>\n",
       "      <th>5 YR</th>\n",
       "      <th>7 YR</th>\n",
       "      <th>10 YR</th>\n",
       "      <th>20 YR</th>\n",
       "      <th>30 YR</th>\n",
       "    </tr>\n",
       "  </thead>\n",
       "  <tbody>\n",
       "    <tr>\n",
       "      <th>1 MO</th>\n",
       "      <td>0.746351</td>\n",
       "      <td>0.750447</td>\n",
       "      <td>0.761458</td>\n",
       "      <td>0.759314</td>\n",
       "      <td>0.725763</td>\n",
       "      <td>0.683100</td>\n",
       "      <td>0.590584</td>\n",
       "      <td>0.513528</td>\n",
       "      <td>0.456635</td>\n",
       "      <td>0.340441</td>\n",
       "      <td>0.319009</td>\n",
       "    </tr>\n",
       "    <tr>\n",
       "      <th>3 MO</th>\n",
       "      <td>0.750447</td>\n",
       "      <td>0.760310</td>\n",
       "      <td>0.775822</td>\n",
       "      <td>0.779348</td>\n",
       "      <td>0.751783</td>\n",
       "      <td>0.712234</td>\n",
       "      <td>0.622348</td>\n",
       "      <td>0.545125</td>\n",
       "      <td>0.486917</td>\n",
       "      <td>0.365706</td>\n",
       "      <td>0.344055</td>\n",
       "    </tr>\n",
       "    <tr>\n",
       "      <th>6 MO</th>\n",
       "      <td>0.761458</td>\n",
       "      <td>0.775822</td>\n",
       "      <td>0.797685</td>\n",
       "      <td>0.808576</td>\n",
       "      <td>0.788846</td>\n",
       "      <td>0.752947</td>\n",
       "      <td>0.665740</td>\n",
       "      <td>0.587812</td>\n",
       "      <td>0.527454</td>\n",
       "      <td>0.398955</td>\n",
       "      <td>0.376888</td>\n",
       "    </tr>\n",
       "    <tr>\n",
       "      <th>1 YR</th>\n",
       "      <td>0.759314</td>\n",
       "      <td>0.779348</td>\n",
       "      <td>0.808576</td>\n",
       "      <td>0.830603</td>\n",
       "      <td>0.822958</td>\n",
       "      <td>0.793215</td>\n",
       "      <td>0.711741</td>\n",
       "      <td>0.634662</td>\n",
       "      <td>0.572736</td>\n",
       "      <td>0.436870</td>\n",
       "      <td>0.414097</td>\n",
       "    </tr>\n",
       "    <tr>\n",
       "      <th>2 YR</th>\n",
       "      <td>0.725763</td>\n",
       "      <td>0.751783</td>\n",
       "      <td>0.788846</td>\n",
       "      <td>0.822958</td>\n",
       "      <td>0.833788</td>\n",
       "      <td>0.814958</td>\n",
       "      <td>0.746616</td>\n",
       "      <td>0.674834</td>\n",
       "      <td>0.613564</td>\n",
       "      <td>0.474055</td>\n",
       "      <td>0.451134</td>\n",
       "    </tr>\n",
       "    <tr>\n",
       "      <th>3 YR</th>\n",
       "      <td>0.683100</td>\n",
       "      <td>0.712234</td>\n",
       "      <td>0.752947</td>\n",
       "      <td>0.793215</td>\n",
       "      <td>0.814958</td>\n",
       "      <td>0.805048</td>\n",
       "      <td>0.750044</td>\n",
       "      <td>0.685412</td>\n",
       "      <td>0.627436</td>\n",
       "      <td>0.490685</td>\n",
       "      <td>0.468626</td>\n",
       "    </tr>\n",
       "    <tr>\n",
       "      <th>5 YR</th>\n",
       "      <td>0.590584</td>\n",
       "      <td>0.622348</td>\n",
       "      <td>0.665740</td>\n",
       "      <td>0.711741</td>\n",
       "      <td>0.746616</td>\n",
       "      <td>0.750044</td>\n",
       "      <td>0.720179</td>\n",
       "      <td>0.671272</td>\n",
       "      <td>0.622936</td>\n",
       "      <td>0.498660</td>\n",
       "      <td>0.478680</td>\n",
       "    </tr>\n",
       "    <tr>\n",
       "      <th>7 YR</th>\n",
       "      <td>0.513528</td>\n",
       "      <td>0.545125</td>\n",
       "      <td>0.587812</td>\n",
       "      <td>0.634662</td>\n",
       "      <td>0.674834</td>\n",
       "      <td>0.685412</td>\n",
       "      <td>0.671272</td>\n",
       "      <td>0.634325</td>\n",
       "      <td>0.594420</td>\n",
       "      <td>0.483541</td>\n",
       "      <td>0.465563</td>\n",
       "    </tr>\n",
       "    <tr>\n",
       "      <th>10 YR</th>\n",
       "      <td>0.456635</td>\n",
       "      <td>0.486917</td>\n",
       "      <td>0.527454</td>\n",
       "      <td>0.572736</td>\n",
       "      <td>0.613564</td>\n",
       "      <td>0.627436</td>\n",
       "      <td>0.622936</td>\n",
       "      <td>0.594420</td>\n",
       "      <td>0.561741</td>\n",
       "      <td>0.462896</td>\n",
       "      <td>0.446446</td>\n",
       "    </tr>\n",
       "    <tr>\n",
       "      <th>20 YR</th>\n",
       "      <td>0.340441</td>\n",
       "      <td>0.365706</td>\n",
       "      <td>0.398955</td>\n",
       "      <td>0.436870</td>\n",
       "      <td>0.474055</td>\n",
       "      <td>0.490685</td>\n",
       "      <td>0.498660</td>\n",
       "      <td>0.483541</td>\n",
       "      <td>0.462896</td>\n",
       "      <td>0.389899</td>\n",
       "      <td>0.376984</td>\n",
       "    </tr>\n",
       "    <tr>\n",
       "      <th>30 YR</th>\n",
       "      <td>0.319009</td>\n",
       "      <td>0.344055</td>\n",
       "      <td>0.376888</td>\n",
       "      <td>0.414097</td>\n",
       "      <td>0.451134</td>\n",
       "      <td>0.468626</td>\n",
       "      <td>0.478680</td>\n",
       "      <td>0.465563</td>\n",
       "      <td>0.446446</td>\n",
       "      <td>0.376984</td>\n",
       "      <td>0.369377</td>\n",
       "    </tr>\n",
       "  </tbody>\n",
       "</table>\n",
       "</div>"
      ],
      "text/plain": [
       "           1 MO      3 MO      6 MO      1 YR      2 YR      3 YR      5 YR  \\\n",
       "1 MO   0.746351  0.750447  0.761458  0.759314  0.725763  0.683100  0.590584   \n",
       "3 MO   0.750447  0.760310  0.775822  0.779348  0.751783  0.712234  0.622348   \n",
       "6 MO   0.761458  0.775822  0.797685  0.808576  0.788846  0.752947  0.665740   \n",
       "1 YR   0.759314  0.779348  0.808576  0.830603  0.822958  0.793215  0.711741   \n",
       "2 YR   0.725763  0.751783  0.788846  0.822958  0.833788  0.814958  0.746616   \n",
       "3 YR   0.683100  0.712234  0.752947  0.793215  0.814958  0.805048  0.750044   \n",
       "5 YR   0.590584  0.622348  0.665740  0.711741  0.746616  0.750044  0.720179   \n",
       "7 YR   0.513528  0.545125  0.587812  0.634662  0.674834  0.685412  0.671272   \n",
       "10 YR  0.456635  0.486917  0.527454  0.572736  0.613564  0.627436  0.622936   \n",
       "20 YR  0.340441  0.365706  0.398955  0.436870  0.474055  0.490685  0.498660   \n",
       "30 YR  0.319009  0.344055  0.376888  0.414097  0.451134  0.468626  0.478680   \n",
       "\n",
       "           7 YR     10 YR     20 YR     30 YR  \n",
       "1 MO   0.513528  0.456635  0.340441  0.319009  \n",
       "3 MO   0.545125  0.486917  0.365706  0.344055  \n",
       "6 MO   0.587812  0.527454  0.398955  0.376888  \n",
       "1 YR   0.634662  0.572736  0.436870  0.414097  \n",
       "2 YR   0.674834  0.613564  0.474055  0.451134  \n",
       "3 YR   0.685412  0.627436  0.490685  0.468626  \n",
       "5 YR   0.671272  0.622936  0.498660  0.478680  \n",
       "7 YR   0.634325  0.594420  0.483541  0.465563  \n",
       "10 YR  0.594420  0.561741  0.462896  0.446446  \n",
       "20 YR  0.483541  0.462896  0.389899  0.376984  \n",
       "30 YR  0.465563  0.446446  0.376984  0.369377  "
      ]
     },
     "execution_count": 195,
     "metadata": {},
     "output_type": "execute_result"
    }
   ],
   "source": [
    "MCov = C.cov()\n",
    "MCov"
   ]
  },
  {
   "cell_type": "code",
   "execution_count": 200,
   "id": "f3fb36c9",
   "metadata": {},
   "outputs": [
    {
     "name": "stdout",
     "output_type": "stream",
     "text": [
      "[6.75722973e+00 6.35863096e-01 4.65952629e-02 4.69302010e-03\n",
      " 2.32542098e-03 1.36809224e-03 6.30826351e-04 2.42886195e-04\n",
      " 1.92008550e-04 8.77778415e-05 7.62822552e-05] \n",
      "\n",
      "          0         1         2         3         4         5         6   \\\n",
      "0  -0.304665  0.416284  0.400229  0.451884 -0.333089 -0.389807 -0.304079   \n",
      "1  -0.315427  0.364015  0.267712  0.033672  0.065856  0.320980  0.530347   \n",
      "2  -0.330665  0.301284  0.097945 -0.240066  0.193957  0.388218  0.025007   \n",
      "3  -0.344434  0.204400 -0.153150 -0.422793  0.315903 -0.048265 -0.534548   \n",
      "4  -0.349167  0.055083 -0.402153 -0.176594 -0.032570 -0.448582  0.151451   \n",
      "5  -0.342844 -0.057020 -0.424846  0.037953 -0.244087 -0.183216  0.343252   \n",
      "6  -0.318088 -0.227833 -0.243618  0.293902 -0.180206  0.346166 -0.029092   \n",
      "7  -0.290407 -0.316225 -0.062703  0.314582 -0.007267  0.312668 -0.215314   \n",
      "8  -0.266423 -0.356682  0.127968  0.169080  0.285947 -0.017787 -0.220438   \n",
      "9  -0.209337 -0.368168  0.380483  0.032711  0.486515 -0.371627  0.320129   \n",
      "10 -0.199829 -0.375084  0.410431 -0.557366 -0.579372  0.034208 -0.029339   \n",
      "\n",
      "          7         8         9         10  \n",
      "0  -0.115921  0.022250 -0.014324 -0.002138  \n",
      "1   0.542730  0.092322  0.058197 -0.009800  \n",
      "2  -0.633430 -0.365502 -0.092718 -0.016849  \n",
      "3   0.208036  0.443143 -0.044266  0.088874  \n",
      "4   0.104982 -0.415063  0.498762 -0.157639  \n",
      "5  -0.106090  0.150221 -0.612679  0.277680  \n",
      "6  -0.187118  0.404956  0.221838 -0.547557  \n",
      "7   0.091031 -0.169888  0.289487  0.669064  \n",
      "8   0.317176 -0.429448 -0.454533 -0.366785  \n",
      "9  -0.281469  0.298029  0.147699  0.087445  \n",
      "10  0.045749 -0.008503  0.016818 -0.010867  \n"
     ]
    }
   ],
   "source": [
    "evalues, evectors = np.linalg.eig(MCov)\n",
    "print(evalues,\"\\n\")\n",
    "print(pd.DataFrame(evectors))"
   ]
  },
  {
   "cell_type": "code",
   "execution_count": 209,
   "id": "3c80c0c0",
   "metadata": {},
   "outputs": [
    {
     "name": "stdout",
     "output_type": "stream",
     "text": [
      "El primer eigenvector explica el 99.12% de la varianza de los datos\n"
     ]
    }
   ],
   "source": [
    "print(f\"El primer eigenvector explica el {(evalues[0]**2/np.sum(evalues**2))*100:.2f}% de la varianza de los datos\")"
   ]
  },
  {
   "cell_type": "code",
   "execution_count": 204,
   "id": "2c502742",
   "metadata": {},
   "outputs": [
    {
     "data": {
      "text/plain": [
       "<matplotlib.legend.Legend at 0x1a393160eb0>"
      ]
     },
     "execution_count": 204,
     "metadata": {},
     "output_type": "execute_result"
    },
    {
     "data": {
      "image/png": "[encoded data removed]",
      "text/plain": [
       "<Figure size 864x432 with 1 Axes>"
      ]
     },
     "metadata": {
      "needs_background": "light"
     },
     "output_type": "display_data"
    }
   ],
   "source": [
    "plt.figure(figsize=(12,6))\n",
    "plt.plot(data.columns, evectors[:,0],linewidth=5,label=\"1\")\n",
    "plt.plot(data.columns, evectors[:,1],linewidth=5,label=\"2\")\n",
    "plt.plot(data.columns, evectors[:,2],linewidth=5,label=\"3\")\n",
    "plt.legend()"
   ]
  }
 ],
 "metadata": {
  "kernelspec": {
   "display_name": "Python 3",
   "language": "python",
   "name": "python3"
  },
  "language_info": {
   "codemirror_mode": {
    "name": "ipython",
    "version": 3
   },
   "file_extension": ".py",
   "mimetype": "text/x-python",
   "name": "python",
   "nbconvert_exporter": "python",
   "pygments_lexer": "ipython3",
   "version": "3.9.6"
  }
 },
 "nbformat": 4,
 "nbformat_minor": 5
}
